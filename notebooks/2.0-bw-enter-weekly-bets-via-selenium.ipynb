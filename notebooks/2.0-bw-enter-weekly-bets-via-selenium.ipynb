{
 "cells": [
  {
   "cell_type": "markdown",
   "metadata": {},
   "source": [
    "## connecting to kicktipp.de/wolter via selenium"
   ]
  },
  {
   "cell_type": "code",
   "execution_count": 5,
   "metadata": {},
   "outputs": [
    {
     "name": "stdout",
     "output_type": "stream",
     "text": [
      "Kicktipp password:········\n"
     ]
    }
   ],
   "source": [
    "# enter hiddenly the password\n",
    "import getpass\n",
    "\n",
    "pswd = getpass.getpass('Kicktipp password:')"
   ]
  },
  {
   "cell_type": "code",
   "execution_count": 42,
   "metadata": {},
   "outputs": [],
   "source": [
    "# parameters\n",
    "gameday = 4"
   ]
  },
  {
   "cell_type": "code",
   "execution_count": 43,
   "metadata": {},
   "outputs": [],
   "source": [
    "from selenium import webdriver\n",
    "\n",
    "# prepare driver\n",
    "driver = webdriver.Chrome()\n",
    "driver.set_page_load_timeout(20)\n",
    "\n",
    "# load webpage\n",
    "driver.get('https://www.kicktipp.de/wolter/profil/login')\n",
    "driver.maximize_window()\n",
    "driver.implicitly_wait(20)\n",
    "\n",
    "# enter login and pw\n",
    "driver.find_element_by_id(\"kennung\").send_keys(\"benjamin.wolter.23@gmail.com\")\n",
    "driver.find_element_by_name(\"passwort\").send_keys(pswd)\n",
    "driver.find_element_by_name(\"submitbutton\").click()\n",
    "\n",
    "# load tippabgabe page\n",
    "driver.get('https://www.kicktipp.de/wolter/tippabgabe?&spieltagIndex={0}'.format(gameday))\n",
    "\n",
    "# access cells in tippabgabetable\n",
    "### check if td[2] and td[3] are the teams you are looking for, or take the teams\n",
    "### then get your dictionary and read out the predicted results\n",
    "### then enter them in the respective fields according to below\n",
    "\n",
    "test = driver.find_elements_by_xpath(\"//table/tbody/tr[1]/td[5]/input\")\n",
    "test[1].clear()\n",
    "test[1].send_keys('15')\n",
    "test[2].clear()\n",
    "test[2].send_keys('20')"
   ]
  },
  {
   "cell_type": "code",
   "execution_count": 38,
   "metadata": {},
   "outputs": [
    {
     "data": {
      "text/plain": [
       "[<selenium.webdriver.remote.webelement.WebElement (session=\"25d6895b86006842e11a70d5c4b8689f\", element=\"0.7364111590309859-1\")>,\n",
       " <selenium.webdriver.remote.webelement.WebElement (session=\"25d6895b86006842e11a70d5c4b8689f\", element=\"0.7364111590309859-2\")>,\n",
       " <selenium.webdriver.remote.webelement.WebElement (session=\"25d6895b86006842e11a70d5c4b8689f\", element=\"0.7364111590309859-3\")>]"
      ]
     },
     "execution_count": 38,
     "metadata": {},
     "output_type": "execute_result"
    }
   ],
   "source": [
    "test[2]"
   ]
  }
 ],
 "metadata": {
  "kernelspec": {
   "display_name": "Python 3",
   "language": "python",
   "name": "python3"
  },
  "language_info": {
   "codemirror_mode": {
    "name": "ipython",
    "version": 3
   },
   "file_extension": ".py",
   "mimetype": "text/x-python",
   "name": "python",
   "nbconvert_exporter": "python",
   "pygments_lexer": "ipython3",
   "version": "3.6.6"
  }
 },
 "nbformat": 4,
 "nbformat_minor": 2
}
