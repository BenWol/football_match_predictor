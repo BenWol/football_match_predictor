{
 "cells": [
  {
   "cell_type": "markdown",
   "metadata": {},
   "source": [
    "## connecting to kicktipp.de/wolter via selenium"
   ]
  },
  {
   "cell_type": "code",
   "execution_count": null,
   "metadata": {},
   "outputs": [],
   "source": [
    "# enter hiddenly the password\n",
    "import getpass\n",
    "\n",
    "pswd = getpass.getpass('Kicktipp password:')"
   ]
  },
  {
   "cell_type": "markdown",
   "metadata": {},
   "source": [
    "## bet individual gameday"
   ]
  },
  {
   "cell_type": "code",
   "execution_count": 11,
   "metadata": {},
   "outputs": [],
   "source": [
    "from selenium import webdriver\n",
    "\n",
    "# parameters\n",
    "gameday = 4\n",
    "\n",
    "# prepare driver\n",
    "driver = webdriver.Chrome()\n",
    "driver.set_page_load_timeout(20)\n",
    "\n",
    "# load webpage\n",
    "driver.get('https://www.kicktipp.de/wolter/profil/login')\n",
    "driver.maximize_window()\n",
    "driver.implicitly_wait(20)\n",
    "\n",
    "# enter login and pw\n",
    "driver.find_element_by_id(\"kennung\").send_keys(\"benjamin.wolter.23@gmail.com\")\n",
    "driver.find_element_by_name(\"passwort\").send_keys(pswd)\n",
    "driver.find_element_by_name(\"submitbutton\").click()\n",
    "\n",
    "# load tippabgabe page\n",
    "driver.get('https://www.kicktipp.de/wolter/tippabgabe?&spieltagIndex={0}'.format(gameday))\n",
    "\n",
    "# access cells in tippabgabetable\n",
    "### check if td[2] and td[3] are the teams you are looking for, or take the teams\n",
    "### then get your dictionary and read out the predicted results\n",
    "### then enter them in the respective fields according to below\n",
    "\n",
    "# bet every game 2:1\n",
    "for game in range(1,10):\n",
    "    foo = driver.find_elements_by_xpath(\"//table/tbody/tr[{0}]/td[5]/input\".format(game))\n",
    "    foo[1].clear()\n",
    "    foo[1].send_keys('2')\n",
    "    foo[2].clear()\n",
    "    foo[2].send_keys('1')\n",
    "    \n",
    "# submit bets\n",
    "driver.find_element_by_name('submitbutton').click()\n",
    "\n",
    "# logout & close browser\n",
    "driver.find_element_by_class_name('navtoggle').click()\n",
    "driver.find_element_by_link_text('Logout').click()\n",
    "driver.close()"
   ]
  },
  {
   "cell_type": "markdown",
   "metadata": {},
   "source": [
    "## bet all games this season 2:1"
   ]
  },
  {
   "cell_type": "code",
   "execution_count": 12,
   "metadata": {},
   "outputs": [],
   "source": [
    "from selenium import webdriver\n",
    "\n",
    "# parameters\n",
    "start_game_day = 4\n",
    "\n",
    "# prepare driver\n",
    "driver = webdriver.Chrome()\n",
    "driver.set_page_load_timeout(20)\n",
    "\n",
    "# load webpage\n",
    "driver.get('https://www.kicktipp.de/wolter/profil/login')\n",
    "driver.maximize_window()\n",
    "driver.implicitly_wait(20)\n",
    "\n",
    "# enter login and pw\n",
    "driver.find_element_by_id(\"kennung\").send_keys(\"benjamin.wolter.23@gmail.com\")\n",
    "driver.find_element_by_name(\"passwort\").send_keys(pswd)\n",
    "driver.find_element_by_name(\"submitbutton\").click()\n",
    "\n",
    "# loop over all game days left:\n",
    "\n",
    "for gameday in range(start_game_day,35):\n",
    "    # load tippabgabe page\n",
    "    driver.get('https://www.kicktipp.de/wolter/tippabgabe?&spieltagIndex={0}'.format(gameday))\n",
    "\n",
    "    # access cells in tippabgabetable\n",
    "    ### check if td[2] and td[3] are the teams you are looking for, or take the teams\n",
    "    ### then get your dictionary and read out the predicted results\n",
    "    ### then enter them in the respective fields according to below\n",
    "\n",
    "    # bet every game 2:1\n",
    "    for game in range(1,10):\n",
    "        foo = driver.find_elements_by_xpath(\"//table/tbody/tr[{0}]/td[5]/input\".format(game))\n",
    "        foo[1].clear()\n",
    "        foo[1].send_keys('2')\n",
    "        foo[2].clear()\n",
    "        foo[2].send_keys('1')\n",
    "\n",
    "    # submit bets\n",
    "    driver.find_element_by_name('submitbutton').click()\n",
    "\n",
    "# logout & close browser\n",
    "driver.find_element_by_class_name('navtoggle').click()\n",
    "driver.find_element_by_link_text('Logout').click()\n",
    "driver.close()"
   ]
  }
 ],
 "metadata": {
  "kernelspec": {
   "display_name": "Python 3",
   "language": "python",
   "name": "python3"
  },
  "language_info": {
   "codemirror_mode": {
    "name": "ipython",
    "version": 3
   },
   "file_extension": ".py",
   "mimetype": "text/x-python",
   "name": "python",
   "nbconvert_exporter": "python",
   "pygments_lexer": "ipython3",
   "version": "3.6.6"
  }
 },
 "nbformat": 4,
 "nbformat_minor": 2
}
